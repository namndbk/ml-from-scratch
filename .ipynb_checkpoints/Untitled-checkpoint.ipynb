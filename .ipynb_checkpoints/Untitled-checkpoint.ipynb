{
 "cells": [
  {
   "cell_type": "code",
   "execution_count": 22,
   "metadata": {},
   "outputs": [
    {
     "ename": "KeyboardInterrupt",
     "evalue": "",
     "output_type": "error",
     "traceback": [
      "\u001b[0;31m---------------------------------------------------------------------------\u001b[0m",
      "\u001b[0;31mKeyboardInterrupt\u001b[0m                         Traceback (most recent call last)",
      "\u001b[0;32m<ipython-input-22-2bd6d0955666>\u001b[0m in \u001b[0;36m<module>\u001b[0;34m\u001b[0m\n\u001b[1;32m    123\u001b[0m \u001b[0;34m\u001b[0m\u001b[0m\n\u001b[1;32m    124\u001b[0m \u001b[0;34m\u001b[0m\u001b[0m\n\u001b[0;32m--> 125\u001b[0;31m \u001b[0mmain\u001b[0m\u001b[0;34m(\u001b[0m\u001b[0;36m0.01\u001b[0m\u001b[0;34m,\u001b[0m \u001b[0;36m0.7\u001b[0m\u001b[0;34m,\u001b[0m \u001b[0;34m'data/a1_market_basket_optimisation.csv'\u001b[0m\u001b[0;34m)\u001b[0m\u001b[0;34m\u001b[0m\u001b[0;34m\u001b[0m\u001b[0m\n\u001b[0m",
      "\u001b[0;32m<ipython-input-22-2bd6d0955666>\u001b[0m in \u001b[0;36mmain\u001b[0;34m(min_support, min_confidence, file_loc)\u001b[0m\n\u001b[1;32m    111\u001b[0m     \u001b[0;32mfor\u001b[0m \u001b[0mi\u001b[0m \u001b[0;32min\u001b[0m \u001b[0mrange\u001b[0m\u001b[0;34m(\u001b[0m\u001b[0;36m2\u001b[0m\u001b[0;34m,\u001b[0m \u001b[0mmax\u001b[0m\u001b[0;34m(\u001b[0m\u001b[0mnumber_of_trans\u001b[0m\u001b[0;34m)\u001b[0m\u001b[0;34m+\u001b[0m\u001b[0;36m1\u001b[0m\u001b[0;34m)\u001b[0m\u001b[0;34m:\u001b[0m\u001b[0;34m\u001b[0m\u001b[0;34m\u001b[0m\u001b[0m\n\u001b[1;32m    112\u001b[0m         \u001b[0mitem_list\u001b[0m \u001b[0;34m=\u001b[0m \u001b[0mcombinations\u001b[0m\u001b[0;34m(\u001b[0m\u001b[0mitems_lst\u001b[0m\u001b[0;34m,\u001b[0m \u001b[0mi\u001b[0m\u001b[0;34m)\u001b[0m\u001b[0;34m\u001b[0m\u001b[0;34m\u001b[0m\u001b[0m\n\u001b[0;32m--> 113\u001b[0;31m         \u001b[0mitems_counts\u001b[0m \u001b[0;34m=\u001b[0m \u001b[0mfrequence\u001b[0m\u001b[0;34m(\u001b[0m\u001b[0mitem_list\u001b[0m\u001b[0;34m,\u001b[0m \u001b[0mtrans\u001b[0m\u001b[0;34m,\u001b[0m \u001b[0mcheck\u001b[0m\u001b[0;34m=\u001b[0m\u001b[0;32mTrue\u001b[0m\u001b[0;34m)\u001b[0m\u001b[0;34m\u001b[0m\u001b[0;34m\u001b[0m\u001b[0m\n\u001b[0m\u001b[1;32m    114\u001b[0m         \u001b[0mitemcount_track\u001b[0m\u001b[0;34m.\u001b[0m\u001b[0mappend\u001b[0m\u001b[0;34m(\u001b[0m\u001b[0mitems_counts\u001b[0m\u001b[0;34m)\u001b[0m\u001b[0;34m\u001b[0m\u001b[0;34m\u001b[0m\u001b[0m\n\u001b[1;32m    115\u001b[0m         \u001b[0;32mif\u001b[0m \u001b[0mlist\u001b[0m\u001b[0;34m(\u001b[0m\u001b[0;34m{\u001b[0m\u001b[0mj\u001b[0m\u001b[0;34m[\u001b[0m\u001b[0;36m0\u001b[0m\u001b[0;34m]\u001b[0m\u001b[0;34m:\u001b[0m\u001b[0mj\u001b[0m\u001b[0;34m[\u001b[0m\u001b[0;36m1\u001b[0m\u001b[0;34m]\u001b[0m \u001b[0;32mfor\u001b[0m \u001b[0mj\u001b[0m \u001b[0;32min\u001b[0m \u001b[0msupport\u001b[0m\u001b[0;34m(\u001b[0m\u001b[0mitems_counts\u001b[0m\u001b[0;34m,\u001b[0m \u001b[0mtrans\u001b[0m\u001b[0;34m)\u001b[0m\u001b[0;34m.\u001b[0m\u001b[0mitems\u001b[0m\u001b[0;34m(\u001b[0m\u001b[0;34m)\u001b[0m \u001b[0;32mif\u001b[0m \u001b[0mj\u001b[0m\u001b[0;34m[\u001b[0m\u001b[0;36m1\u001b[0m\u001b[0;34m]\u001b[0m\u001b[0;34m>\u001b[0m\u001b[0mmin_support\u001b[0m\u001b[0;34m}\u001b[0m\u001b[0;34m.\u001b[0m\u001b[0mkeys\u001b[0m\u001b[0;34m(\u001b[0m\u001b[0;34m)\u001b[0m\u001b[0;34m)\u001b[0m \u001b[0;34m!=\u001b[0m \u001b[0;34m[\u001b[0m\u001b[0;34m]\u001b[0m\u001b[0;34m:\u001b[0m\u001b[0;34m\u001b[0m\u001b[0;34m\u001b[0m\u001b[0m\n",
      "\u001b[0;32m<ipython-input-22-2bd6d0955666>\u001b[0m in \u001b[0;36mfrequence\u001b[0;34m(items_lst, trans, check)\u001b[0m\n\u001b[1;32m     21\u001b[0m         \u001b[0;32mif\u001b[0m \u001b[0mcheck\u001b[0m\u001b[0;34m:\u001b[0m\u001b[0;34m\u001b[0m\u001b[0;34m\u001b[0m\u001b[0m\n\u001b[1;32m     22\u001b[0m             \u001b[0mtemp_i\u001b[0m \u001b[0;34m=\u001b[0m \u001b[0mset\u001b[0m\u001b[0;34m(\u001b[0m\u001b[0mi\u001b[0m\u001b[0;34m)\u001b[0m\u001b[0;34m\u001b[0m\u001b[0;34m\u001b[0m\u001b[0m\n\u001b[0;32m---> 23\u001b[0;31m         \u001b[0;32mfor\u001b[0m \u001b[0mj\u001b[0m \u001b[0;32min\u001b[0m \u001b[0mtrans\u001b[0m\u001b[0;34m.\u001b[0m\u001b[0mitems\u001b[0m\u001b[0;34m(\u001b[0m\u001b[0;34m)\u001b[0m\u001b[0;34m:\u001b[0m\u001b[0;34m\u001b[0m\u001b[0;34m\u001b[0m\u001b[0m\n\u001b[0m\u001b[1;32m     24\u001b[0m             \u001b[0;32mif\u001b[0m \u001b[0mtemp_i\u001b[0m\u001b[0;34m.\u001b[0m\u001b[0missubset\u001b[0m\u001b[0;34m(\u001b[0m\u001b[0mset\u001b[0m\u001b[0;34m(\u001b[0m\u001b[0mj\u001b[0m\u001b[0;34m[\u001b[0m\u001b[0;36m1\u001b[0m\u001b[0;34m]\u001b[0m\u001b[0;34m)\u001b[0m\u001b[0;34m)\u001b[0m\u001b[0;34m:\u001b[0m\u001b[0;34m\u001b[0m\u001b[0;34m\u001b[0m\u001b[0m\n\u001b[1;32m     25\u001b[0m                 \u001b[0;32mif\u001b[0m \u001b[0mi\u001b[0m \u001b[0;32min\u001b[0m \u001b[0mitems_counts\u001b[0m\u001b[0;34m:\u001b[0m\u001b[0;34m\u001b[0m\u001b[0;34m\u001b[0m\u001b[0m\n",
      "\u001b[0;31mKeyboardInterrupt\u001b[0m: "
     ]
    }
   ],
   "source": [
    "import csv\n",
    "from itertools import combinations\n",
    "\n",
    "def read_data(file_loc='data/a1_market_basket_optimisation.csv'):\n",
    "    trans = dict()\n",
    "    with open(file_loc) as f:\n",
    "        filedata = csv.reader(f, delimiter=',')\n",
    "        count = 0\n",
    "        for line in filedata:\n",
    "            if count >= 10:\n",
    "                break\n",
    "            count += 1\n",
    "            trans[count] = list(set(line))\n",
    "    return trans\n",
    "    \n",
    "\n",
    "def frequence(items_lst, trans, check=False):\n",
    "    items_counts = dict()\n",
    "    for i in items_lst:\n",
    "        temp_i = {i}\n",
    "        if check:\n",
    "            temp_i = set(i)\n",
    "        for j in trans.items():\n",
    "            if temp_i.issubset(set(j[1])):\n",
    "                if i in items_counts:\n",
    "                    items_counts[i] += 1\n",
    "                else:\n",
    "                    items_counts[i] = 1\n",
    "    return items_counts\n",
    "    \n",
    "\n",
    "def support(items_counts, trans):\n",
    "    support = dict()\n",
    "    total_trans = len(trans)\n",
    "    for i in items_counts:\n",
    "        support[i] = items_counts[i]/total_trans\n",
    "    return support\n",
    "    \n",
    "def association_rules(items_grater_then_min_support):\n",
    "    rules = []\n",
    "    dict_rules = {}\n",
    "    for i in items_grater_then_min_support:\n",
    "        dict_rules = {}\n",
    "        if type(i) != type(str()):\n",
    "            i = list(i)\n",
    "            temp_i = i[:]\n",
    "            for j in range(len(i)):\n",
    "                k = temp_i[j]\n",
    "                del temp_i[j]\n",
    "                dict_rules[k] = temp_i\n",
    "                temp_i = i[:]\n",
    "        rules.append(dict_rules)\n",
    "    temp = []\n",
    "    for i in rules:\n",
    "        for j in i.items():\n",
    "            if type(j[1]) != type(str()):\n",
    "                temp.append({tuple(j[1])[0]: j[0]})\n",
    "            else:\n",
    "                temp.append({j[1]: j[0]})\n",
    "    rules.extend(temp)\n",
    "    return rules\n",
    "\n",
    "def confidence(associations, d, min_confidence):\n",
    "    ans = {}\n",
    "    for i in associations:\n",
    "        for j in i.items():\n",
    "            if type(j[0]) == type(str()):\n",
    "                left = {j[0]}\n",
    "            else:\n",
    "                left = set(j[0])\n",
    "            if type(j[1]) == type(str()):\n",
    "                right = {j[1]}\n",
    "            else:\n",
    "                right = set(j[1])\n",
    "            for k in d:\n",
    "                if type(k) != type(str()):\n",
    "                    if left.union(right) - set(k) == set():\n",
    "                        up = d[k]\n",
    "                    if len(right) == len(set(k)) and right - set(k) == set():\n",
    "                            down = d[k]\n",
    "                else:\n",
    "                    if len(right) >= len({k}):\n",
    "                        if right - {k} == set():\n",
    "                            down = d[k]\n",
    "                    elif len(right) <= len({k}):\n",
    "                        if {k} - right == set():\n",
    "                            down = d[k]\n",
    "            if up/down >= min_confidence:\n",
    "                ans[tuple(left)[0]] = right, up/down, up, down\n",
    "    print(ans)    \n",
    "\n",
    "\n",
    "def main(min_support, min_confidence, file_loc):\n",
    "    \n",
    "    trans = read_data()\n",
    "    num_item_of_trans = [len(iems) for items in trans.values()]\n",
    "    items_lst = set()\n",
    "    \n",
    "    itemcount_track = list()    \n",
    "    \n",
    "    for i in trans.values():\n",
    "        for j in i:\n",
    "            items_lst.add(j)\n",
    "    \n",
    "    store_item_lst = list(items_lst)[:]\n",
    "    items_grater_then_min_support = list()\n",
    "    items_counts = frequence(items_lst, trans)\n",
    "    itemcount_track.append(items_counts)\n",
    "    items_grater_then_min_support.append({j[0]:j[1] for j in support(items_counts, trans).items() if j[1]>min_support})\n",
    "    \n",
    "    for i in range(2, max(number_of_trans)+1):\n",
    "        item_list = combinations(items_lst, i)\n",
    "        items_counts = frequence(item_list, trans, check=True)\n",
    "        itemcount_track.append(items_counts)\n",
    "        if list({j[0]:j[1] for j in support(items_counts, trans).items() if j[1]>min_support}.keys()) != []:\n",
    "            items_grater_then_min_support.append({j[0]:j[1] for j in support(items_counts, trans).items() if j[1]>min_support})\n",
    "        \n",
    "    d = {}\n",
    "    {d.update(i) for i in itemcount_track}\n",
    "    associations = association_rules(items_grater_then_min_support[len(items_grater_then_min_support)-1])\n",
    "    associations_grater_then_confidene = confidence(associations, d, min_confidence)\n",
    "    \n",
    "    \n",
    "\n",
    "main(0.01, 0.7, 'data/a1_market_basket_optimisation.csv')"
   ]
  },
  {
   "cell_type": "code",
   "execution_count": 18,
   "metadata": {},
   "outputs": [],
   "source": [
    "trans = read_data(\"data/a1_market_basket_optimisation.csv\")"
   ]
  },
  {
   "cell_type": "code",
   "execution_count": 19,
   "metadata": {},
   "outputs": [
    {
     "data": {
      "text/plain": [
       "500"
      ]
     },
     "execution_count": 19,
     "metadata": {},
     "output_type": "execute_result"
    }
   ],
   "source": [
    "len(trans)"
   ]
  },
  {
   "cell_type": "code",
   "execution_count": null,
   "metadata": {},
   "outputs": [],
   "source": []
  }
 ],
 "metadata": {
  "kernelspec": {
   "display_name": "Python 3",
   "language": "python",
   "name": "python3"
  },
  "language_info": {
   "codemirror_mode": {
    "name": "ipython",
    "version": 3
   },
   "file_extension": ".py",
   "mimetype": "text/x-python",
   "name": "python",
   "nbconvert_exporter": "python",
   "pygments_lexer": "ipython3",
   "version": "3.6.10"
  }
 },
 "nbformat": 4,
 "nbformat_minor": 4
}
