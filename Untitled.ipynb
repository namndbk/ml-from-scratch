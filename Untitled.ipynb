{
 "cells": [
  {
   "cell_type": "code",
   "execution_count": 22,
   "metadata": {},
   "outputs": [],
   "source": [
    "import csv\n",
    "from itertools import combinations\n",
    "\n",
    "def read_data(file_loc='data/a1_market_basket_optimisation.csv'):\n",
    "    trans = dict()\n",
    "    with open(file_loc) as f:\n",
    "        filedata = csv.reader(f, delimiter=',')\n",
    "        count = 0\n",
    "        for line in filedata:\n",
    "            count += 1\n",
    "            trans[count] = list(set(line))\n",
    "    return trans\n",
    "    \n",
    "\n",
    "def frequence(items_lst, trans, check=False):\n",
    "    items_counts = dict()\n",
    "    for i in items_lst:\n",
    "        temp_i = {i}\n",
    "        if check:\n",
    "            temp_i = set(i)\n",
    "        for j in trans.items():\n",
    "            if temp_i.issubset(set(j[1])):\n",
    "                if i in items_counts:\n",
    "                    items_counts[i] += 1\n",
    "                else:\n",
    "                    items_counts[i] = 1\n",
    "    return items_counts\n",
    "    \n",
    "\n",
    "def support(items_counts, trans):\n",
    "    support = dict()\n",
    "    total_trans = len(trans)\n",
    "    for i in items_counts:\n",
    "        support[i] = items_counts[i]/total_trans\n",
    "    return support\n",
    "    \n",
    "def association_rules(items_grater_then_min_support):\n",
    "    rules = []\n",
    "    dict_rules = {}\n",
    "    for i in items_grater_then_min_support:\n",
    "        dict_rules = {}\n",
    "        if type(i) != type(str()):\n",
    "            i = list(i)\n",
    "            temp_i = i[:]\n",
    "            for j in range(len(i)):\n",
    "                k = temp_i[j]\n",
    "                del temp_i[j]\n",
    "                dict_rules[k] = temp_i\n",
    "                temp_i = i[:]\n",
    "        rules.append(dict_rules)\n",
    "    temp = []\n",
    "    for i in rules:\n",
    "        for j in i.items():\n",
    "            if type(j[1]) != type(str()):\n",
    "                temp.append({tuple(j[1])[0]: j[0]})\n",
    "            else:\n",
    "                temp.append({j[1]: j[0]})\n",
    "    rules.extend(temp)\n",
    "    return rules\n",
    "\n",
    "def confidence(associations, d, min_confidence):\n",
    "    ans = {}\n",
    "    for i in associations:\n",
    "        for j in i.items():\n",
    "            if type(j[0]) == type(str()):\n",
    "                left = {j[0]}\n",
    "            else:\n",
    "                left = set(j[0])\n",
    "            if type(j[1]) == type(str()):\n",
    "                right = {j[1]}\n",
    "            else:\n",
    "                right = set(j[1])\n",
    "            for k in d:\n",
    "                if type(k) != type(str()):\n",
    "                    if left.union(right) - set(k) == set():\n",
    "                        up = d[k]\n",
    "                    if len(right) == len(set(k)) and right - set(k) == set():\n",
    "                            down = d[k]\n",
    "                else:\n",
    "                    if len(right) >= len({k}):\n",
    "                        if right - {k} == set():\n",
    "                            down = d[k]\n",
    "                    elif len(right) <= len({k}):\n",
    "                        if {k} - right == set():\n",
    "                            down = d[k]\n",
    "            if up/down >= min_confidence:\n",
    "                ans[tuple(left)[0]] = right, up/down, up, down\n",
    "    print(ans)    \n",
    "\n",
    "\n",
    "def main(min_support, min_confidence, file_loc):\n",
    "    \n",
    "    trans = read_data()\n",
    "    number_of_trans = [len(items) for items in trans.values()]\n",
    "    items_lst = set()\n",
    "    \n",
    "    itemcount_track = list()    \n",
    "    \n",
    "    for i in trans.values():\n",
    "        for j in i:\n",
    "            items_lst.add(j)\n",
    "    \n",
    "    store_item_lst = list(items_lst)[:]\n",
    "    items_grater_then_min_support = list()\n",
    "    items_counts = frequence(items_lst, trans)\n",
    "    itemcount_track.append(items_counts)\n",
    "    items_grater_then_min_support.append({j[0]:j[1] for j in support(items_counts, trans).items() if j[1]>min_support})\n",
    "    print(\"Ok\")\n",
    "    for i in range(2, 5):\n",
    "        item_list = combinations(items_lst, i)\n",
    "        items_counts = frequence(item_list, trans, check=True)\n",
    "        itemcount_track.append(items_counts)\n",
    "        if list({j[0]:j[1] for j in support(items_counts, trans).items() if j[1]>min_support}.keys()) != []:\n",
    "            items_grater_then_min_support.append({j[0]:j[1] for j in support(items_counts, trans).items() if j[1]>min_support})\n",
    "        print(\"HI\")\n",
    "        \n",
    "    print(\"Ok\")\n",
    "    d = {}\n",
    "    {d.update(i) for i in itemcount_track}\n",
    "    associations = association_rules(items_grater_then_min_support[len(items_grater_then_min_support)-1])\n",
    "    associations_grater_then_confidene = confidence(associations, d, min_confidence)\n",
    "    \n",
    "    \n",
    "\n",
    "# "
   ]
  },
  {
   "cell_type": "code",
   "execution_count": 23,
   "metadata": {},
   "outputs": [],
   "source": [
    "trans = read_data(\"data/a1_market_basket_optimisation.csv\")"
   ]
  },
  {
   "cell_type": "code",
   "execution_count": 34,
   "metadata": {},
   "outputs": [],
   "source": [
    "number_of_trans = [len(items) for items in trans.values()]"
   ]
  },
  {
   "cell_type": "code",
   "execution_count": 24,
   "metadata": {},
   "outputs": [],
   "source": [
    "number_of_trans = [len(items) for items in trans.values()]\n",
    "items_lst = set()\n",
    "    \n",
    "itemcount_track = list()    \n",
    "    \n",
    "for i in trans.values():\n",
    "    for j in i:\n",
    "        items_lst.add(j)"
   ]
  },
  {
   "cell_type": "code",
   "execution_count": 26,
   "metadata": {},
   "outputs": [
    {
     "data": {
      "text/plain": [
       "120"
      ]
     },
     "execution_count": 26,
     "metadata": {},
     "output_type": "execute_result"
    }
   ],
   "source": [
    "len(items_lst)"
   ]
  },
  {
   "cell_type": "code",
   "execution_count": 42,
   "metadata": {},
   "outputs": [],
   "source": [
    "from apyori import apriori"
   ]
  },
  {
   "cell_type": "code",
   "execution_count": 50,
   "metadata": {},
   "outputs": [],
   "source": [
    "associations = apriori(trans, min_length = 2, min_support = 0.2, min_confidence = 0.2, min_lift = 3)\n",
    "\n"
   ]
  },
  {
   "cell_type": "code",
   "execution_count": 51,
   "metadata": {},
   "outputs": [
    {
     "ename": "TypeError",
     "evalue": "'int' object is not iterable",
     "output_type": "error",
     "traceback": [
      "\u001b[0;31m---------------------------------------------------------------------------\u001b[0m",
      "\u001b[0;31mTypeError\u001b[0m                                 Traceback (most recent call last)",
      "\u001b[0;32m<ipython-input-51-495fa25ecec4>\u001b[0m in \u001b[0;36m<module>\u001b[0;34m\u001b[0m\n\u001b[0;32m----> 1\u001b[0;31m \u001b[0massociations\u001b[0m \u001b[0;34m=\u001b[0m \u001b[0mlist\u001b[0m\u001b[0;34m(\u001b[0m\u001b[0massociations\u001b[0m\u001b[0;34m)\u001b[0m\u001b[0;34m\u001b[0m\u001b[0;34m\u001b[0m\u001b[0m\n\u001b[0m",
      "\u001b[0;32m~/anaconda3/lib/python3.6/site-packages/apyori.py\u001b[0m in \u001b[0;36mapriori\u001b[0;34m(transactions, **kwargs)\u001b[0m\n\u001b[1;32m    279\u001b[0m \u001b[0;34m\u001b[0m\u001b[0m\n\u001b[1;32m    280\u001b[0m     \u001b[0;31m# Calculate supports.\u001b[0m\u001b[0;34m\u001b[0m\u001b[0;34m\u001b[0m\u001b[0;34m\u001b[0m\u001b[0m\n\u001b[0;32m--> 281\u001b[0;31m     \u001b[0mtransaction_manager\u001b[0m \u001b[0;34m=\u001b[0m \u001b[0mTransactionManager\u001b[0m\u001b[0;34m.\u001b[0m\u001b[0mcreate\u001b[0m\u001b[0;34m(\u001b[0m\u001b[0mtransactions\u001b[0m\u001b[0;34m)\u001b[0m\u001b[0;34m\u001b[0m\u001b[0;34m\u001b[0m\u001b[0m\n\u001b[0m\u001b[1;32m    282\u001b[0m     support_records = _gen_support_records(\n\u001b[1;32m    283\u001b[0m         transaction_manager, min_support, max_length=max_length)\n",
      "\u001b[0;32m~/anaconda3/lib/python3.6/site-packages/apyori.py\u001b[0m in \u001b[0;36mcreate\u001b[0;34m(transactions)\u001b[0m\n\u001b[1;32m    119\u001b[0m         \u001b[0;32mif\u001b[0m \u001b[0misinstance\u001b[0m\u001b[0;34m(\u001b[0m\u001b[0mtransactions\u001b[0m\u001b[0;34m,\u001b[0m \u001b[0mTransactionManager\u001b[0m\u001b[0;34m)\u001b[0m\u001b[0;34m:\u001b[0m\u001b[0;34m\u001b[0m\u001b[0;34m\u001b[0m\u001b[0m\n\u001b[1;32m    120\u001b[0m             \u001b[0;32mreturn\u001b[0m \u001b[0mtransactions\u001b[0m\u001b[0;34m\u001b[0m\u001b[0;34m\u001b[0m\u001b[0m\n\u001b[0;32m--> 121\u001b[0;31m         \u001b[0;32mreturn\u001b[0m \u001b[0mTransactionManager\u001b[0m\u001b[0;34m(\u001b[0m\u001b[0mtransactions\u001b[0m\u001b[0;34m)\u001b[0m\u001b[0;34m\u001b[0m\u001b[0;34m\u001b[0m\u001b[0m\n\u001b[0m\u001b[1;32m    122\u001b[0m \u001b[0;34m\u001b[0m\u001b[0m\n\u001b[1;32m    123\u001b[0m \u001b[0;34m\u001b[0m\u001b[0m\n",
      "\u001b[0;32m~/anaconda3/lib/python3.6/site-packages/apyori.py\u001b[0m in \u001b[0;36m__init__\u001b[0;34m(self, transactions)\u001b[0m\n\u001b[1;32m     42\u001b[0m \u001b[0;34m\u001b[0m\u001b[0m\n\u001b[1;32m     43\u001b[0m         \u001b[0;32mfor\u001b[0m \u001b[0mtransaction\u001b[0m \u001b[0;32min\u001b[0m \u001b[0mtransactions\u001b[0m\u001b[0;34m:\u001b[0m\u001b[0;34m\u001b[0m\u001b[0;34m\u001b[0m\u001b[0m\n\u001b[0;32m---> 44\u001b[0;31m             \u001b[0mself\u001b[0m\u001b[0;34m.\u001b[0m\u001b[0madd_transaction\u001b[0m\u001b[0;34m(\u001b[0m\u001b[0mtransaction\u001b[0m\u001b[0;34m)\u001b[0m\u001b[0;34m\u001b[0m\u001b[0;34m\u001b[0m\u001b[0m\n\u001b[0m\u001b[1;32m     45\u001b[0m \u001b[0;34m\u001b[0m\u001b[0m\n\u001b[1;32m     46\u001b[0m     \u001b[0;32mdef\u001b[0m \u001b[0madd_transaction\u001b[0m\u001b[0;34m(\u001b[0m\u001b[0mself\u001b[0m\u001b[0;34m,\u001b[0m \u001b[0mtransaction\u001b[0m\u001b[0;34m)\u001b[0m\u001b[0;34m:\u001b[0m\u001b[0;34m\u001b[0m\u001b[0;34m\u001b[0m\u001b[0m\n",
      "\u001b[0;32m~/anaconda3/lib/python3.6/site-packages/apyori.py\u001b[0m in \u001b[0;36madd_transaction\u001b[0;34m(self, transaction)\u001b[0m\n\u001b[1;32m     51\u001b[0m             \u001b[0mtransaction\u001b[0m \u001b[0;34m-\u001b[0m\u001b[0;34m-\u001b[0m \u001b[0mA\u001b[0m \u001b[0mtransaction\u001b[0m \u001b[0;32mas\u001b[0m \u001b[0man\u001b[0m \u001b[0miterable\u001b[0m \u001b[0mobject\u001b[0m \u001b[0;34m(\u001b[0m\u001b[0meg\u001b[0m\u001b[0;34m.\u001b[0m \u001b[0;34m[\u001b[0m\u001b[0;34m'A'\u001b[0m\u001b[0;34m,\u001b[0m \u001b[0;34m'B'\u001b[0m\u001b[0;34m]\u001b[0m\u001b[0;34m)\u001b[0m\u001b[0;34m.\u001b[0m\u001b[0;34m\u001b[0m\u001b[0;34m\u001b[0m\u001b[0m\n\u001b[1;32m     52\u001b[0m         \"\"\"\n\u001b[0;32m---> 53\u001b[0;31m         \u001b[0;32mfor\u001b[0m \u001b[0mitem\u001b[0m \u001b[0;32min\u001b[0m \u001b[0mtransaction\u001b[0m\u001b[0;34m:\u001b[0m\u001b[0;34m\u001b[0m\u001b[0;34m\u001b[0m\u001b[0m\n\u001b[0m\u001b[1;32m     54\u001b[0m             \u001b[0;32mif\u001b[0m \u001b[0mitem\u001b[0m \u001b[0;32mnot\u001b[0m \u001b[0;32min\u001b[0m \u001b[0mself\u001b[0m\u001b[0;34m.\u001b[0m\u001b[0m__transaction_index_map\u001b[0m\u001b[0;34m:\u001b[0m\u001b[0;34m\u001b[0m\u001b[0;34m\u001b[0m\u001b[0m\n\u001b[1;32m     55\u001b[0m                 \u001b[0mself\u001b[0m\u001b[0;34m.\u001b[0m\u001b[0m__items\u001b[0m\u001b[0;34m.\u001b[0m\u001b[0mappend\u001b[0m\u001b[0;34m(\u001b[0m\u001b[0mitem\u001b[0m\u001b[0;34m)\u001b[0m\u001b[0;34m\u001b[0m\u001b[0;34m\u001b[0m\u001b[0m\n",
      "\u001b[0;31mTypeError\u001b[0m: 'int' object is not iterable"
     ]
    }
   ],
   "source": [
    "associations = list(associations)"
   ]
  },
  {
   "cell_type": "code",
   "execution_count": 1,
   "metadata": {},
   "outputs": [],
   "source": [
    "import numpy as np"
   ]
  },
  {
   "cell_type": "code",
   "execution_count": 14,
   "metadata": {},
   "outputs": [],
   "source": [
    "arr = np.array([[1, 2], [3, 4], [5, 6]])"
   ]
  },
  {
   "cell_type": "code",
   "execution_count": 16,
   "metadata": {},
   "outputs": [
    {
     "data": {
      "text/plain": [
       "array([[35, 44],\n",
       "       [44, 56]])"
      ]
     },
     "execution_count": 16,
     "metadata": {},
     "output_type": "execute_result"
    }
   ],
   "source": [
    "np.dot(arr.T, arr.T.T)"
   ]
  },
  {
   "cell_type": "code",
   "execution_count": 17,
   "metadata": {},
   "outputs": [
    {
     "data": {
      "text/plain": [
       "array([[1, 3, 5],\n",
       "       [2, 4, 6]])"
      ]
     },
     "execution_count": 17,
     "metadata": {},
     "output_type": "execute_result"
    }
   ],
   "source": [
    "arr.T"
   ]
  },
  {
   "cell_type": "code",
   "execution_count": 12,
   "metadata": {},
   "outputs": [
    {
     "data": {
      "text/plain": [
       "array([[1, 2],\n",
       "       [3, 4],\n",
       "       [5, 6]])"
      ]
     },
     "execution_count": 12,
     "metadata": {},
     "output_type": "execute_result"
    }
   ],
   "source": [
    "arr"
   ]
  },
  {
   "cell_type": "code",
   "execution_count": 2,
   "metadata": {},
   "outputs": [],
   "source": [
    "import numpy as np"
   ]
  },
  {
   "cell_type": "code",
   "execution_count": 3,
   "metadata": {},
   "outputs": [],
   "source": [
    "y_pred = np.unique(np.array([1, 0, 1, 2, 0, 1, 0, 1, 0]))"
   ]
  },
  {
   "cell_type": "code",
   "execution_count": 4,
   "metadata": {},
   "outputs": [
    {
     "data": {
      "text/plain": [
       "array([0, 1, 2])"
      ]
     },
     "execution_count": 4,
     "metadata": {},
     "output_type": "execute_result"
    }
   ],
   "source": [
    "y_pred"
   ]
  },
  {
   "cell_type": "code",
   "execution_count": null,
   "metadata": {},
   "outputs": [],
   "source": []
  }
 ],
 "metadata": {
  "kernelspec": {
   "display_name": "Python 3",
   "language": "python",
   "name": "python3"
  },
  "language_info": {
   "codemirror_mode": {
    "name": "ipython",
    "version": 3
   },
   "file_extension": ".py",
   "mimetype": "text/x-python",
   "name": "python",
   "nbconvert_exporter": "python",
   "pygments_lexer": "ipython3",
   "version": "3.6.10"
  }
 },
 "nbformat": 4,
 "nbformat_minor": 4
}
